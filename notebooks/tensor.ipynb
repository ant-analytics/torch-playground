{
 "cells": [
  {
   "cell_type": "markdown",
   "metadata": {},
   "source": [
    "<h1 style=\"text-align: center;\">Pytorch Basics: Tensor</h1>\n",
    "\n",
    "## 1. Introduction  \n",
    "This notebook is a part of a part of my journey to learn Pytorch and deep learning. It serves as a reference for me and others who are interested in learning Pytorch. In this notebook, I will cover two important concepts in Pytorch: Tensor that are, to my experience, the core of Pytorch. Along with the concepts, I will also provide some examples to illustrate how to use them.\n",
    "## 2. Tensor\n",
    "### 2.1 What is Tensor?\n",
    "This is from [Pytorch documentation](https://pytorch.org/tutorials/beginner/blitz/tensor_tutorial.html): *\"Tensors are a specialized data structure that are very similar to arrays and matrices. In PyTorch, we use tensors to encode the inputs and outputs of a model, as well as the model’s parameters. Tensors are similar to NumPy’s ndarrays, except that tensors can run on GPUs or other specialized hardware to accelerate computing. If you’re familiar with ndarrays, you’ll be right at home with the Tensor API. If not, follow along in this quick API walkthrough.\"*\n",
    "[NumPy Illustrated: The visual guide to Numpy](https://medium.com/better-programming/numpy-illustrated-the-visual-guide-to-numpy-3b1d4976de1d)\n",
    "### 2.2 Tensor Creation\n"
   ]
  },
  {
   "cell_type": "code",
   "execution_count": 1,
   "metadata": {},
   "outputs": [
    {
     "name": "stdout",
     "output_type": "stream",
     "text": [
      "This tensor is created from data:\n",
      " tensor([[1, 2],\n",
      "        [3, 4]])\n",
      "This tensor is created from numpy:\n",
      " tensor([[1, 2],\n",
      "        [3, 4]])\n",
      "This tensor is created from another tensor:\n",
      " tensor([[1, 1],\n",
      "        [1, 1]])\n"
     ]
    }
   ],
   "source": [
    "import numpy as np\n",
    "import torch\n",
    "\n",
    "# create from data\n",
    "data = [[1, 2], [3, 4]]\n",
    "tensor_data = torch.tensor(data)\n",
    "print(f'This tensor is created from data:\\n {tensor_data}')\n",
    "\n",
    "# create from numpy\n",
    "np_array = np.array([[1, 2], [3, 4]])\n",
    "tensor_np = torch.from_numpy(np_array)\n",
    "print(f'This tensor is created from numpy:\\n {tensor_np}')\n",
    "\n",
    "# create from another tensor\n",
    "tensor_ones = torch.ones_like(tensor_data) # create a tensor of 1s with the same shape as tensor_data\n",
    "print(f'This tensor is created from another tensor:\\n {tensor_ones}')\n"
   ]
  },
  {
   "cell_type": "code",
   "execution_count": 2,
   "metadata": {},
   "outputs": [
    {
     "name": "stdout",
     "output_type": "stream",
     "text": [
      "This tensor is created from ones:\n",
      " tensor([[1., 1.],\n",
      "        [1., 1.],\n",
      "        [1., 1.]])\n",
      "This tensor is created from zeros:\n",
      " tensor([[0., 0.],\n",
      "        [0., 0.],\n",
      "        [0., 0.]])\n",
      "This tensor is created from random values:\n",
      " tensor([[0.0646, 0.5620],\n",
      "        [0.9739, 0.6127],\n",
      "        [0.9949, 0.4079]])\n",
      "This tensor is created from range:\n",
      " tensor([ 0,  2,  4,  6,  8, 10, 12, 14])\n",
      "This tensor is created from linear space:\n",
      " tensor([ 0.0000,  2.5000,  5.0000,  7.5000, 10.0000])\n",
      "This tensor is created from data with data type:\n",
      " tensor([[1., 2.],\n",
      "        [3., 4.]])\n"
     ]
    }
   ],
   "source": [
    "# create a tensor of 1s\n",
    "tensor_ones = torch.ones(3, 2) # create a tensor of 1s with shape 3x2\n",
    "print(f'This tensor is created from ones:\\n {tensor_ones}')\n",
    "\n",
    "# create a tensor of 0s\n",
    "tensor_zeros = torch.zeros(3, 2) # create a tensor of 0s with shape 3x2\n",
    "print(f'This tensor is created from zeros:\\n {tensor_zeros}')\n",
    "\n",
    "# create a tensor of random values\n",
    "tensor_rand = torch.rand(3, 2) # create a tensor of random values with shape 3x2\n",
    "print(f'This tensor is created from random values:\\n {tensor_rand}')\n",
    "\n",
    "# create a tensor with range\n",
    "tensor_range = torch.arange(0, 15, 2) # create a tensor with values from 0 to 15 with step 2\n",
    "print(f'This tensor is created from range:\\n {tensor_range}')\n",
    "\n",
    "# create a tensor with linear spcace\n",
    "sensor_linspace = torch.linspace(0, 10, 5) # create a tensor with 5 values from 0 to 10\n",
    "print(f'This tensor is created from linear space:\\n {sensor_linspace}')\n",
    "\n",
    "# create a with data type\n",
    "tensor_data_type = torch.tensor([[1, 2], [3, 4]], dtype=torch.float32)\n",
    "print(f'This tensor is created from data with data type:\\n {tensor_data_type}')"
   ]
  },
  {
   "cell_type": "code",
   "execution_count": 3,
   "metadata": {},
   "outputs": [
    {
     "name": "stdout",
     "output_type": "stream",
     "text": [
      "This tensor is created from eye:\n",
      " tensor([[1., 0., 0.],\n",
      "        [0., 1., 0.],\n",
      "        [0., 0., 1.]])\n",
      "This tensor is created from zeros_like:\n",
      " tensor([[0., 0., 0.],\n",
      "        [0., 0., 0.],\n",
      "        [0., 0., 0.]])\n",
      "This tensor is created from ones_like:\n",
      " tensor([[1., 1., 1.],\n",
      "        [1., 1., 1.],\n",
      "        [1., 1., 1.]])\n",
      "This tensor is created from empty:\n",
      " tensor([[0.3773, 0.0000],\n",
      "        [0.0000, 0.0000],\n",
      "        [0.0000, 0.0000]])\n"
     ]
    }
   ],
   "source": [
    "# special tensors\n",
    "tensor_eye = torch.eye(3, 3) # create a tensor of 1s on the diagonal and 0s elsewhere with shape 3x2\n",
    "print(f'This tensor is created from eye:\\n {tensor_eye}')\n",
    "tensor_zeros = torch.zeros_like(tensor_eye) # create a tensor of 0s with the same shape as tensor_eye\n",
    "print(f'This tensor is created from zeros_like:\\n {tensor_zeros}')\n",
    "tensor_ones = torch.ones_like(tensor_eye) # create a tensor of 1s with the same shape as tensor_eye\n",
    "print(f'This tensor is created from ones_like:\\n {tensor_ones}')\n",
    "tensor_empty = torch.empty(3, 2) # create a tensor of uninitialized data with shape 3x2\n",
    "print(f'This tensor is created from empty:\\n {tensor_empty}')"
   ]
  },
  {
   "cell_type": "markdown",
   "metadata": {},
   "source": [
    "### 2.3 Tensor Attributes\n",
    "As tensor is data structure, it have some attributes associated with it. Some of the important attributes are: shape, data type(dtypes), device (where data is stored), requires_grad (whether to calculate gradients or not), and names:\n",
    "- shape: shape of the tensor tells us about the number of elements in each dimension.\n",
    "- dtype: data type of the tensor.\n",
    "- device: device where the tensor is stored.\n",
    "- requires_grad: whether to calculate gradients or not. This attribute will signal Pytorch that computational graph should be constructed. It is useful when autograd is required. More on autograd can be found [here](notebooks/autograd.ipynb).\n",
    "- names: names of the tensor. it is bookkeeping feasture that help to keep track of tensor dimensions' names.\n",
    "\n",
    "All these attribute can assigned to tensor during creation or can be changed later using tensor's methods. Let's have a look:"
   ]
  },
  {
   "cell_type": "code",
   "execution_count": 4,
   "metadata": {},
   "outputs": [
    {
     "name": "stderr",
     "output_type": "stream",
     "text": [
      "/tmp/ipykernel_23408/280765653.py:2: UserWarning: Named tensors and all their associated APIs are an experimental feature and subject to change. Please do not use them for anything important until they are released as stable. (Triggered internally at /pytorch/c10/core/TensorImpl.h:1935.)\n",
      "  tensor_rand = torch.rand(3, 2, dtype=torch.float32, device=device, requires_grad=True, names=['samples', 'features']) # create a tensor of random numbers with shape 3x2\n"
     ]
    }
   ],
   "source": [
    "device = torch.device('cuda' if torch.cuda.is_available() else 'cpu')\n",
    "tensor_rand = torch.rand(3, 2, dtype=torch.float32, device=device, requires_grad=True, names=['samples', 'features']) # create a tensor of random numbers with shape 3x2"
   ]
  },
  {
   "cell_type": "code",
   "execution_count": 5,
   "metadata": {},
   "outputs": [
    {
     "name": "stdout",
     "output_type": "stream",
     "text": [
      "This is tensor_rand:\n",
      " tensor([[0.9423, 0.4784],\n",
      "        [0.2133, 0.9464],\n",
      "        [0.3813, 0.6426]], device='cuda:0', requires_grad=True,\n",
      "       names=('samples', 'features'))\n",
      "This is shape of tensor_rand: torch.Size([3, 2])\n",
      "This is name of each dimension of tensor_rand: ('samples', 'features')\n",
      "This tensor_rand is on device: cuda:0\n",
      "This tensor_rand is requires_grad: True\n",
      "The gradient of tensor_rand is: None (None because we have not computed the gradient yet)\n"
     ]
    }
   ],
   "source": [
    "# shape of tensor\n",
    "print(f'This is tensor_rand:\\n {tensor_rand}')\n",
    "print(f'This is shape of tensor_rand: {tensor_rand.shape}')\n",
    "print(f'This is name of each dimension of tensor_rand: {tensor_rand.names}')\n",
    "print(f'This tensor_rand is on device: {tensor_rand.device}')\n",
    "print(f'This tensor_rand is requires_grad: {tensor_rand.requires_grad}')\n",
    "print(f'The gradient of tensor_rand is: {tensor_rand.grad} (None because we have not computed the gradient yet)')"
   ]
  },
  {
   "cell_type": "markdown",
   "metadata": {},
   "source": [
    "### 2.4 Tensor Reshape and Index\n",
    "The syxtax for reshaping and indexing tensor is similar to NumPy. Note that when do reshape, the number of elements in the reshaped tensor should be equal to the number of elements in the original tensor. Let's have a look at some examples:"
   ]
  },
  {
   "cell_type": "code",
   "execution_count": 6,
   "metadata": {},
   "outputs": [
    {
     "name": "stdout",
     "output_type": "stream",
     "text": [
      "this is tensor_reshape:\n",
      " tensor([ 1,  2,  3,  4,  5,  6,  7,  8,  9, 10, 11, 12, 13, 14, 15, 16, 17, 18,\n",
      "        19, 20])\n",
      "convert 1D tensor to 2D tensor: \n",
      " tensor([[ 1,  2,  3,  4,  5],\n",
      "        [ 6,  7,  8,  9, 10],\n",
      "        [11, 12, 13, 14, 15],\n",
      "        [16, 17, 18, 19, 20]])\n",
      "convert 1D tensor to 3D tensor: \n",
      " tensor([[[ 1,  2,  3,  4,  5],\n",
      "         [ 6,  7,  8,  9, 10]],\n",
      "\n",
      "        [[11, 12, 13, 14, 15],\n",
      "         [16, 17, 18, 19, 20]]])\n",
      "convert 1D tensor to 4D tensor: \n",
      " tensor([[[[ 1,  2,  3,  4,  5]],\n",
      "\n",
      "         [[ 6,  7,  8,  9, 10]]],\n",
      "\n",
      "\n",
      "        [[[11, 12, 13, 14, 15]],\n",
      "\n",
      "         [[16, 17, 18, 19, 20]]]])\n",
      "convert 1D tensor to 5D tensor: \n",
      " tensor([[[[[ 1,  2,  3,  4,  5]]],\n",
      "\n",
      "\n",
      "         [[[ 6,  7,  8,  9, 10]]]],\n",
      "\n",
      "\n",
      "\n",
      "        [[[[11, 12, 13, 14, 15]]],\n",
      "\n",
      "\n",
      "         [[[16, 17, 18, 19, 20]]]]])\n",
      "convert 1D tensor to 2D tensor with -1: \n",
      " tensor([[ 1,  2,  3,  4,  5],\n",
      "        [ 6,  7,  8,  9, 10],\n",
      "        [11, 12, 13, 14, 15],\n",
      "        [16, 17, 18, 19, 20]])\n"
     ]
    }
   ],
   "source": [
    "tensor_1D = torch.arange(1, 21, 1) # create a 1D tensor with values from 1 to 20\n",
    "print(f'this is tensor_reshape:\\n {tensor_1D}')\n",
    "print(f'convert 1D tensor to 2D tensor: \\n {tensor_1D.reshape(4, 5)}') # first dim has 4 elements, second dim has 5 elements\n",
    "print(f'convert 1D tensor to 3D tensor: \\n {tensor_1D.reshape(2, 2, 5)}') # first dim has 2 elements, second dim has 2 elements, third dim has 5 elements\n",
    "print(f'convert 1D tensor to 4D tensor: \\n {tensor_1D.reshape(2, 2, 1, 5)}') # first dim has 2 elements, second dim has 2 elements, third dim has 1 element, fourth dim has 5 elements\n",
    "print(f'convert 1D tensor to 5D tensor: \\n {tensor_1D.reshape(2, 2, 1, 1, 5)}') # first dim has 2 elements, second dim has 2 elements, third dim has 1 element, fourth dim has 1 element, fifth dim has 5 elements\n",
    "print(f'convert 1D tensor to 2D tensor with -1: \\n {tensor_1D.reshape(4, -1)}') # first dim has 4 elements, the second dim is inferred"
   ]
  },
  {
   "cell_type": "code",
   "execution_count": 7,
   "metadata": {},
   "outputs": [
    {
     "name": "stdout",
     "output_type": "stream",
     "text": [
      "this is tensor_squeeze:\n",
      " tensor([[ 1,  2,  3],\n",
      "        [ 4,  5,  6],\n",
      "        [ 7,  8,  9],\n",
      "        [10, 11, 12],\n",
      "        [13, 14, 15]])\n",
      "this is tensor_squeeze after unsqueeze with shape torch.Size([1, 5, 3]):\n",
      " tensor([[[ 1,  2,  3],\n",
      "         [ 4,  5,  6],\n",
      "         [ 7,  8,  9],\n",
      "         [10, 11, 12],\n",
      "         [13, 14, 15]]])\n",
      "this is tensor_squeeze after unsqueeze with torch.Size([5, 1, 3]):\n",
      " tensor([[[ 1,  2,  3]],\n",
      "\n",
      "        [[ 4,  5,  6]],\n",
      "\n",
      "        [[ 7,  8,  9]],\n",
      "\n",
      "        [[10, 11, 12]],\n",
      "\n",
      "        [[13, 14, 15]]])\n"
     ]
    }
   ],
   "source": [
    "# reshape tensor use unsqueeze and squeeze\n",
    "tensor_squeeze = torch.arange(1, 16, 1).reshape(5, 3)\n",
    "print(f'this is tensor_squeeze:\\n {tensor_squeeze}')\n",
    "print(f'this is tensor_squeeze after unsqueeze with shape {tensor_squeeze.unsqueeze(0).shape}:\\n {tensor_squeeze.unsqueeze(0)}') # add a dimension at index 0\n",
    "print(f'this is tensor_squeeze after unsqueeze with {tensor_squeeze.unsqueeze(1).shape}:\\n {tensor_squeeze.unsqueeze(1)}') # add a dimension at index 1"
   ]
  },
  {
   "cell_type": "code",
   "execution_count": 8,
   "metadata": {},
   "outputs": [
    {
     "name": "stdout",
     "output_type": "stream",
     "text": [
      "this is tensor_unsqueeze with torch.Size([1, 5, 3]):\n",
      " tensor([[[ 1,  2,  3],\n",
      "         [ 4,  5,  6],\n",
      "         [ 7,  8,  9],\n",
      "         [10, 11, 12],\n",
      "         [13, 14, 15]]])\n",
      "this is tensor_unsqueeze after squeeze with shape torch.Size([5, 3]):\n",
      " tensor([[ 1,  2,  3],\n",
      "        [ 4,  5,  6],\n",
      "        [ 7,  8,  9],\n",
      "        [10, 11, 12],\n",
      "        [13, 14, 15]])\n"
     ]
    }
   ],
   "source": [
    "# we can also use squeeze to remove the dimension\n",
    "tensor_unsqueeze = torch.arange(1, 16, 1).reshape(1, 5, 3)\n",
    "print(f'this is tensor_unsqueeze with {tensor_unsqueeze.shape}:\\n {tensor_unsqueeze}')\n",
    "print(f'this is tensor_unsqueeze after squeeze with shape {tensor_unsqueeze.squeeze(0).shape}:\\n {tensor_unsqueeze.squeeze(0)}') # remove the dimension at index 0"
   ]
  },
  {
   "cell_type": "code",
   "execution_count": 9,
   "metadata": {},
   "outputs": [
    {
     "name": "stdout",
     "output_type": "stream",
     "text": [
      "This is tensor_index:\n",
      " tensor([[1, 2, 3],\n",
      "        [4, 5, 6],\n",
      "        [7, 8, 9]])\n"
     ]
    }
   ],
   "source": [
    "# create a tensor for indexing\n",
    "tensor_index = torch.tensor([[1, 2, 3], [4, 5, 6], [7, 8, 9]])\n",
    "print(f'This is tensor_index:\\n {tensor_index}')"
   ]
  },
  {
   "cell_type": "code",
   "execution_count": 10,
   "metadata": {},
   "outputs": [
    {
     "name": "stdout",
     "output_type": "stream",
     "text": [
      "Get all rows and the first columns: \n",
      " tensor([1, 4, 7])\n",
      "Get the last row and last column: \n",
      " 9\n",
      "Get first row and all columns: \n",
      " tensor([1, 2, 3])\n",
      "Get elements that larger than 3: \n",
      " tensor([4, 5, 6, 7, 8, 9])\n",
      "Get elements that larger than 3 and less than 8: \n",
      " tensor([4, 5, 6, 7])\n"
     ]
    }
   ],
   "source": [
    "print(f'Get all rows and the first columns: \\n {tensor_index[:, 0]}')\n",
    "print(f'Get the last row and last column: \\n {tensor_index[-1, -1]}')\n",
    "print(f'Get first row and all columns: \\n {tensor_index[0, :]}')\n",
    "print(f'Get elements that larger than 3: \\n {tensor_index[tensor_index > 3]}')\n",
    "print(f'Get elements that larger than 3 and less than 8: \\n {tensor_index[(tensor_index > 3) & (tensor_index < 8)]}')"
   ]
  },
  {
   "cell_type": "markdown",
   "metadata": {},
   "source": [
    "### 2.5 Tensor Operations"
   ]
  },
  {
   "cell_type": "code",
   "execution_count": 11,
   "metadata": {},
   "outputs": [
    {
     "name": "stdout",
     "output_type": "stream",
     "text": [
      "This is ones:\n",
      " tensor([[1., 1.],\n",
      "        [1., 1.],\n",
      "        [1., 1.]])\n",
      "This is ones + 1:\n",
      " tensor([[2., 2.],\n",
      "        [2., 2.],\n",
      "        [2., 2.]])\n",
      "This is ones * 3:\n",
      " tensor([[3., 3.],\n",
      "        [3., 3.],\n",
      "        [3., 3.]])\n",
      "This is threes / 3:\n",
      " tensor([[1., 1.],\n",
      "        [1., 1.],\n",
      "        [1., 1.]])\n"
     ]
    }
   ],
   "source": [
    "# operations with a scalar\n",
    "ones = torch.ones(3, 2)\n",
    "print(f'This is ones:\\n {ones}')\n",
    "twos = ones + 1\n",
    "print(f'This is ones + 1:\\n {twos}')\n",
    "threes = ones * 3\n",
    "print(f'This is ones * 3:\\n {threes}')\n",
    "ones_again = threes / 3\n",
    "print(f'This is threes / 3:\\n {ones_again}')"
   ]
  },
  {
   "cell_type": "code",
   "execution_count": 12,
   "metadata": {},
   "outputs": [
    {
     "name": "stdout",
     "output_type": "stream",
     "text": [
      "This is tensor_1:\n",
      " tensor([[1, 2],\n",
      "        [3, 4]])\n",
      "This is tensor_2:\n",
      " tensor([[5, 6],\n",
      "        [7, 8]])\n"
     ]
    }
   ],
   "source": [
    "# operation with another tensor\n",
    "tensor_1 = torch.tensor([[1, 2], [3, 4]])\n",
    "tensor_2 = torch.tensor([[5, 6], [7, 8]])\n",
    "print(f'This is tensor_1:\\n {tensor_1}')\n",
    "print(f'This is tensor_2:\\n {tensor_2}')"
   ]
  },
  {
   "cell_type": "code",
   "execution_count": 13,
   "metadata": {},
   "outputs": [
    {
     "name": "stdout",
     "output_type": "stream",
     "text": [
      "This is tensor_1 + tensor_2:\n",
      " tensor([[ 6,  8],\n",
      "        [10, 12]])\n",
      "This is tensor_1 * tensor_2:\n",
      " tensor([[ 5, 12],\n",
      "        [21, 32]])\n",
      "This is tensor_1 / tensor_2:\n",
      " tensor([[0.2000, 0.3333],\n",
      "        [0.4286, 0.5000]])\n"
     ]
    }
   ],
   "source": [
    "# element-wise operations\n",
    "tensor_1_plus_2 = tensor_1 + tensor_2\n",
    "print(f'This is tensor_1 + tensor_2:\\n {tensor_1_plus_2}')\n",
    "tensor_1_mul_2 = tensor_1 * tensor_2\n",
    "print(f'This is tensor_1 * tensor_2:\\n {tensor_1_mul_2}')\n",
    "tensor_1_div_2 = tensor_1 / tensor_2\n",
    "print(f'This is tensor_1 / tensor_2:\\n {tensor_1_div_2}')"
   ]
  },
  {
   "cell_type": "markdown",
   "metadata": {},
   "source": [
    "It can be seen that tensor operation with a scalar and another tensor with same shape is element-wise operation. Let's have a look at some cases when we do operations with two tensors with different shapes:"
   ]
  },
  {
   "cell_type": "code",
   "execution_count": 14,
   "metadata": {},
   "outputs": [
    {
     "name": "stdout",
     "output_type": "stream",
     "text": [
      "This is shape of shape_1D:\n",
      " torch.Size([3])\n",
      "This is shape of shape_2D:\n",
      " torch.Size([3, 3])\n"
     ]
    }
   ],
   "source": [
    "# operation with different shapes\n",
    "shape_1D = torch.tensor([8, 9, 10])\n",
    "shape_2D = torch.tensor([[1, 2, 3], [4, 5, 6], [7, 8, 9]])\n",
    "print(f'This is shape of shape_1D:\\n {shape_1D.shape}')\n",
    "print(f'This is shape of shape_2D:\\n {shape_2D.shape}')"
   ]
  },
  {
   "cell_type": "markdown",
   "metadata": {},
   "source": [
    "In this case, the tensor shape_1D is one dimension or vector. The shape_2D is two dimension or matrix of 2 rows and 3 columns. Similar with numpy, pytorch will operate broadcast operation. The smaller tensor will be broadcasted to match the shape of the larger tensor.\n",
    "\n",
    "Note often dimension are ordered from left to right equivalent to global to local. The broadcast rules are:\n",
    "- Matching from right to left.\n",
    "- If the dimension is 1, it will be broadcasted to match the larger tensor.\n",
    "- If the dimension are different and None is 1, it raise an error.\n",
    "Let's have a look at some examples:"
   ]
  },
  {
   "cell_type": "code",
   "execution_count": 15,
   "metadata": {},
   "outputs": [
    {
     "data": {
      "text/plain": [
       "tensor([[ 9, 11, 13],\n",
       "        [12, 14, 16],\n",
       "        [15, 17, 19]])"
      ]
     },
     "execution_count": 15,
     "metadata": {},
     "output_type": "execute_result"
    }
   ],
   "source": [
    "# This first will add 1 dimension to shape_1D (3,) -> (1, 3) then broadcast to shape (2, 3) to match shape_2D\n",
    "# Now two tensors are same shape and can be added\n",
    "# This is first dimension/row matching\n",
    "shape_1D + shape_2D"
   ]
  },
  {
   "cell_type": "code",
   "execution_count": 16,
   "metadata": {},
   "outputs": [
    {
     "data": {
      "text/plain": [
       "tensor([[ 9, 11, 13],\n",
       "        [12, 14, 16],\n",
       "        [15, 17, 19]])"
      ]
     },
     "execution_count": 16,
     "metadata": {},
     "output_type": "execute_result"
    }
   ],
   "source": [
    "# this produce same result as above\n",
    "shape_1D_row_unqueeze = shape_1D.unsqueeze(0) # add a dimension at index 0\n",
    "shape_2D + shape_1D_row_unqueeze"
   ]
  },
  {
   "cell_type": "code",
   "execution_count": 17,
   "metadata": {},
   "outputs": [
    {
     "name": "stdout",
     "output_type": "stream",
     "text": [
      "this is shape_1D_col_unsqueeze:\n",
      " tensor([[ 8],\n",
      "        [ 9],\n",
      "        [10]])\n",
      "this is shape_2D:\n",
      " tensor([[1, 2, 3],\n",
      "        [4, 5, 6],\n",
      "        [7, 8, 9]])\n",
      "this is shape_1D_col_unsqueeze + shape_2D:\n",
      " tensor([[ 9, 10, 11],\n",
      "        [13, 14, 15],\n",
      "        [17, 18, 19]])\n"
     ]
    }
   ],
   "source": [
    "# This will broadcast by second dimension/column matching\n",
    "shape_1D_col_unsqueeze = shape_1D.unsqueeze(1) # add a dimension at index 1\n",
    "print(f'this is shape_1D_col_unsqueeze:\\n {shape_1D_col_unsqueeze}')\n",
    "print(f'this is shape_2D:\\n {shape_2D}')\n",
    "print(f'this is shape_1D_col_unsqueeze + shape_2D:\\n {shape_1D_col_unsqueeze + shape_2D}')"
   ]
  },
  {
   "cell_type": "markdown",
   "metadata": {},
   "source": [
    "## 3. Conclusion\n",
    "In this notebook, I have covered the basics of Pytorch tensor. I have explained what is tensor and how to create a tensor in Pytorch."
   ]
  }
 ],
 "metadata": {
  "kernelspec": {
   "display_name": "env-torch",
   "language": "python",
   "name": "python3"
  },
  "language_info": {
   "codemirror_mode": {
    "name": "ipython",
    "version": 3
   },
   "file_extension": ".py",
   "mimetype": "text/x-python",
   "name": "python",
   "nbconvert_exporter": "python",
   "pygments_lexer": "ipython3",
   "version": "3.12.9"
  }
 },
 "nbformat": 4,
 "nbformat_minor": 2
}
